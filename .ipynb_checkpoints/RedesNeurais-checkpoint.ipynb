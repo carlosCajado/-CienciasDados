{
 "cells": [
  {
   "cell_type": "code",
   "execution_count": 1,
   "id": "10caee44-cc99-45bb-bffe-0b3620603bde",
   "metadata": {
    "editable": true,
    "slideshow": {
     "slide_type": ""
    },
    "tags": []
   },
   "outputs": [
    {
     "data": {
      "text/html": [
       "<div>\n",
       "<style scoped>\n",
       "    .dataframe tbody tr th:only-of-type {\n",
       "        vertical-align: middle;\n",
       "    }\n",
       "\n",
       "    .dataframe tbody tr th {\n",
       "        vertical-align: top;\n",
       "    }\n",
       "\n",
       "    .dataframe thead th {\n",
       "        text-align: right;\n",
       "    }\n",
       "</style>\n",
       "<table border=\"1\" class=\"dataframe\">\n",
       "  <thead>\n",
       "    <tr style=\"text-align: right;\">\n",
       "      <th></th>\n",
       "      <th>anoNascimento</th>\n",
       "      <th>idDisciplina</th>\n",
       "      <th>idSerie</th>\n",
       "      <th>EscolaridadeResponsavel</th>\n",
       "      <th>idEstadoCivilResponsavel</th>\n",
       "      <th>Total_Faltas</th>\n",
       "      <th>numeroReprovacoes</th>\n",
       "      <th>AprovacoesComExcelencia</th>\n",
       "      <th>Aprovacoes</th>\n",
       "      <th>Diciplina</th>\n",
       "      <th>sexo_int</th>\n",
       "      <th>situacaoDisciplina_inteiro</th>\n",
       "    </tr>\n",
       "  </thead>\n",
       "  <tbody>\n",
       "    <tr>\n",
       "      <th>0</th>\n",
       "      <td>2002</td>\n",
       "      <td>3</td>\n",
       "      <td>49</td>\n",
       "      <td>1.0</td>\n",
       "      <td>2.0</td>\n",
       "      <td>0</td>\n",
       "      <td>100.0</td>\n",
       "      <td>0.000000</td>\n",
       "      <td>0.000000</td>\n",
       "      <td>1</td>\n",
       "      <td>1</td>\n",
       "      <td>1</td>\n",
       "    </tr>\n",
       "    <tr>\n",
       "      <th>1</th>\n",
       "      <td>2002</td>\n",
       "      <td>3</td>\n",
       "      <td>49</td>\n",
       "      <td>6.0</td>\n",
       "      <td>2.0</td>\n",
       "      <td>0</td>\n",
       "      <td>100.0</td>\n",
       "      <td>0.000000</td>\n",
       "      <td>0.000000</td>\n",
       "      <td>1</td>\n",
       "      <td>1</td>\n",
       "      <td>1</td>\n",
       "    </tr>\n",
       "    <tr>\n",
       "      <th>2</th>\n",
       "      <td>2002</td>\n",
       "      <td>8</td>\n",
       "      <td>49</td>\n",
       "      <td>1.0</td>\n",
       "      <td>2.0</td>\n",
       "      <td>0</td>\n",
       "      <td>100.0</td>\n",
       "      <td>0.000000</td>\n",
       "      <td>0.000000</td>\n",
       "      <td>28</td>\n",
       "      <td>1</td>\n",
       "      <td>1</td>\n",
       "    </tr>\n",
       "    <tr>\n",
       "      <th>3</th>\n",
       "      <td>2002</td>\n",
       "      <td>8</td>\n",
       "      <td>49</td>\n",
       "      <td>2.0</td>\n",
       "      <td>2.0</td>\n",
       "      <td>0</td>\n",
       "      <td>100.0</td>\n",
       "      <td>0.000000</td>\n",
       "      <td>0.000000</td>\n",
       "      <td>28</td>\n",
       "      <td>1</td>\n",
       "      <td>1</td>\n",
       "    </tr>\n",
       "    <tr>\n",
       "      <th>4</th>\n",
       "      <td>2002</td>\n",
       "      <td>26</td>\n",
       "      <td>49</td>\n",
       "      <td>2.0</td>\n",
       "      <td>2.0</td>\n",
       "      <td>0</td>\n",
       "      <td>100.0</td>\n",
       "      <td>0.000000</td>\n",
       "      <td>0.000000</td>\n",
       "      <td>11</td>\n",
       "      <td>1</td>\n",
       "      <td>1</td>\n",
       "    </tr>\n",
       "    <tr>\n",
       "      <th>...</th>\n",
       "      <td>...</td>\n",
       "      <td>...</td>\n",
       "      <td>...</td>\n",
       "      <td>...</td>\n",
       "      <td>...</td>\n",
       "      <td>...</td>\n",
       "      <td>...</td>\n",
       "      <td>...</td>\n",
       "      <td>...</td>\n",
       "      <td>...</td>\n",
       "      <td>...</td>\n",
       "      <td>...</td>\n",
       "    </tr>\n",
       "    <tr>\n",
       "      <th>52765</th>\n",
       "      <td>2006</td>\n",
       "      <td>38</td>\n",
       "      <td>50</td>\n",
       "      <td>1.0</td>\n",
       "      <td>2.0</td>\n",
       "      <td>0</td>\n",
       "      <td>0.0</td>\n",
       "      <td>29.411765</td>\n",
       "      <td>58.823529</td>\n",
       "      <td>31</td>\n",
       "      <td>1</td>\n",
       "      <td>10</td>\n",
       "    </tr>\n",
       "    <tr>\n",
       "      <th>52766</th>\n",
       "      <td>2006</td>\n",
       "      <td>38</td>\n",
       "      <td>50</td>\n",
       "      <td>7.0</td>\n",
       "      <td>2.0</td>\n",
       "      <td>0</td>\n",
       "      <td>0.0</td>\n",
       "      <td>29.411765</td>\n",
       "      <td>58.823529</td>\n",
       "      <td>31</td>\n",
       "      <td>1</td>\n",
       "      <td>10</td>\n",
       "    </tr>\n",
       "    <tr>\n",
       "      <th>52767</th>\n",
       "      <td>2006</td>\n",
       "      <td>59</td>\n",
       "      <td>50</td>\n",
       "      <td>1.0</td>\n",
       "      <td>2.0</td>\n",
       "      <td>0</td>\n",
       "      <td>0.0</td>\n",
       "      <td>29.411765</td>\n",
       "      <td>58.823529</td>\n",
       "      <td>13</td>\n",
       "      <td>1</td>\n",
       "      <td>10</td>\n",
       "    </tr>\n",
       "    <tr>\n",
       "      <th>52768</th>\n",
       "      <td>2006</td>\n",
       "      <td>59</td>\n",
       "      <td>50</td>\n",
       "      <td>7.0</td>\n",
       "      <td>2.0</td>\n",
       "      <td>0</td>\n",
       "      <td>0.0</td>\n",
       "      <td>29.411765</td>\n",
       "      <td>58.823529</td>\n",
       "      <td>13</td>\n",
       "      <td>1</td>\n",
       "      <td>10</td>\n",
       "    </tr>\n",
       "    <tr>\n",
       "      <th>52769</th>\n",
       "      <td>2006</td>\n",
       "      <td>48</td>\n",
       "      <td>50</td>\n",
       "      <td>1.0</td>\n",
       "      <td>2.0</td>\n",
       "      <td>0</td>\n",
       "      <td>0.0</td>\n",
       "      <td>29.411765</td>\n",
       "      <td>58.823529</td>\n",
       "      <td>21</td>\n",
       "      <td>1</td>\n",
       "      <td>1</td>\n",
       "    </tr>\n",
       "  </tbody>\n",
       "</table>\n",
       "<p>52770 rows × 12 columns</p>\n",
       "</div>"
      ],
      "text/plain": [
       "       anoNascimento  idDisciplina  idSerie  EscolaridadeResponsavel  \\\n",
       "0               2002             3       49                      1.0   \n",
       "1               2002             3       49                      6.0   \n",
       "2               2002             8       49                      1.0   \n",
       "3               2002             8       49                      2.0   \n",
       "4               2002            26       49                      2.0   \n",
       "...              ...           ...      ...                      ...   \n",
       "52765           2006            38       50                      1.0   \n",
       "52766           2006            38       50                      7.0   \n",
       "52767           2006            59       50                      1.0   \n",
       "52768           2006            59       50                      7.0   \n",
       "52769           2006            48       50                      1.0   \n",
       "\n",
       "       idEstadoCivilResponsavel  Total_Faltas  numeroReprovacoes  \\\n",
       "0                           2.0             0              100.0   \n",
       "1                           2.0             0              100.0   \n",
       "2                           2.0             0              100.0   \n",
       "3                           2.0             0              100.0   \n",
       "4                           2.0             0              100.0   \n",
       "...                         ...           ...                ...   \n",
       "52765                       2.0             0                0.0   \n",
       "52766                       2.0             0                0.0   \n",
       "52767                       2.0             0                0.0   \n",
       "52768                       2.0             0                0.0   \n",
       "52769                       2.0             0                0.0   \n",
       "\n",
       "       AprovacoesComExcelencia  Aprovacoes  Diciplina  sexo_int  \\\n",
       "0                     0.000000    0.000000          1         1   \n",
       "1                     0.000000    0.000000          1         1   \n",
       "2                     0.000000    0.000000         28         1   \n",
       "3                     0.000000    0.000000         28         1   \n",
       "4                     0.000000    0.000000         11         1   \n",
       "...                        ...         ...        ...       ...   \n",
       "52765                29.411765   58.823529         31         1   \n",
       "52766                29.411765   58.823529         31         1   \n",
       "52767                29.411765   58.823529         13         1   \n",
       "52768                29.411765   58.823529         13         1   \n",
       "52769                29.411765   58.823529         21         1   \n",
       "\n",
       "       situacaoDisciplina_inteiro  \n",
       "0                               1  \n",
       "1                               1  \n",
       "2                               1  \n",
       "3                               1  \n",
       "4                               1  \n",
       "...                           ...  \n",
       "52765                          10  \n",
       "52766                          10  \n",
       "52767                          10  \n",
       "52768                          10  \n",
       "52769                           1  \n",
       "\n",
       "[52770 rows x 12 columns]"
      ]
     },
     "execution_count": 1,
     "metadata": {},
     "output_type": "execute_result"
    }
   ],
   "source": [
    "import pandas as pd\n",
    "import numpy   as np\n",
    "import matplotlib.pyplot as plt\n",
    "import seaborn as sns\n",
    "from sklearn.metrics import zero_one_loss\n",
    "\n",
    "sns.set_theme()\n",
    "Dataset = pd.read_csv('Dataset_final.csv')\n",
    "#Dataset.round(2)\n",
    "Dataset"
   ]
  },
  {
   "cell_type": "code",
   "execution_count": 4,
   "id": "419ce0a9-b5e6-42d6-87a9-e31f007d24ef",
   "metadata": {},
   "outputs": [
    {
     "name": "stdout",
     "output_type": "stream",
     "text": [
      "anoNascimento                 0\n",
      "idDisciplina                  0\n",
      "idSerie                       0\n",
      "EscolaridadeResponsavel       0\n",
      "idEstadoCivilResponsavel      0\n",
      "Total_Faltas                  0\n",
      "numeroReprovacoes             0\n",
      "AprovacoesComExcelencia       0\n",
      "Aprovacoes                    0\n",
      "Diciplina                     0\n",
      "sexo_int                      0\n",
      "situacaoDisciplina_inteiro    0\n",
      "dtype: int64\n"
     ]
    }
   ],
   "source": [
    "Dataset = Dataset.dropna()\n",
    "missing_data = Dataset.isna().sum()\n",
    "print(missing_data)"
   ]
  },
  {
   "cell_type": "markdown",
   "id": "6a493ad3-2806-4c55-b8c3-7d56c40d2a95",
   "metadata": {
    "editable": true,
    "slideshow": {
     "slide_type": ""
    },
    "tags": []
   },
   "source": [
    "**Para Validação Dividimos os Dados:** \n",
    "- **treino**,75% \n",
    "- **teste**, 25%"
   ]
  },
  {
   "cell_type": "code",
   "execution_count": 5,
   "id": "3343449e-415d-413a-ad34-e7a4e25aa6ed",
   "metadata": {
    "editable": true,
    "slideshow": {
     "slide_type": ""
    },
    "tags": []
   },
   "outputs": [],
   "source": [
    "from sklearn.model_selection import train_test_split\n",
    "\n",
    "# Dividindo em treino e teste 85% treino e 15% teste:\n",
    "D_treino, D_teste = train_test_split(Dataset, test_size=.15, random_state=30) #test_size, por padrão é 25%\n",
    "\n",
    "# print(\"D_treino: \", D_treino.shape, dict(D_treino.iloc[:, 0].value_counts()))\n",
    "# print(\"D_teste: \", D_teste.shape, dict(D_teste.iloc[:, 0].value_counts()))"
   ]
  },
  {
   "cell_type": "code",
   "execution_count": 6,
   "id": "37c9f922-aa61-4b31-beab-baa7a936d1d2",
   "metadata": {
    "editable": true,
    "slideshow": {
     "slide_type": ""
    },
    "tags": []
   },
   "outputs": [
    {
     "data": {
      "image/png": "[encoded data removed]",
      "text/plain": [
       "<Figure size 400x300 with 1 Axes>"
      ]
     },
     "metadata": {},
     "output_type": "display_data"
    }
   ],
   "source": [
    "# visualizar as amostras:\n",
    "plt.figure(figsize=(4,3))\n",
    "plt.hist([D_treino.iloc[:, -1], D_teste.iloc[:, -1]], bins=[1,2,3,5,7,8,10], align='left', rwidth=0.5)\n",
    "plt.legend(['D_treino','D_teste'])\n",
    "plt.xlabel('Y'), plt.xticks([0,1])\n",
    "plt.show()"
   ]
  },
  {
   "cell_type": "code",
   "execution_count": 7,
   "id": "958a72b3-be38-4894-bb8b-06268dc6d5e3",
   "metadata": {
    "editable": true,
    "slideshow": {
     "slide_type": ""
    },
    "tags": []
   },
   "outputs": [
    {
     "name": "stdout",
     "output_type": "stream",
     "text": [
      "D_treino:  ((44548, 11), (44548,))\n",
      "D_teste:  ((7862, 11), (7862,))\n"
     ]
    }
   ],
   "source": [
    "# Selecionado os atributos e classes de treino e teste.\n",
    "X_treino = D_treino.iloc[:, 0:11]\n",
    "Y_treino = D_treino.iloc[:, -1]\n",
    "print(\"D_treino: \", (X_treino.shape, Y_treino.shape))\n",
    "\n",
    "X_teste = D_teste.iloc[:, 0:11]\n",
    "Y_teste = D_teste.iloc[:, -1]\n",
    "print(\"D_teste: \", (X_teste.shape, Y_teste.shape))\n"
   ]
  },
  {
   "cell_type": "markdown",
   "id": "3f2f6f8f-f365-4b4d-9484-03c8e4d9fefd",
   "metadata": {
    "editable": true,
    "slideshow": {
     "slide_type": ""
    },
    "tags": []
   },
   "source": [
    "**Normalização:**"
   ]
  },
  {
   "cell_type": "code",
   "execution_count": 8,
   "id": "3c8c9aa0-5eed-4fae-9963-c0a79bd5c2e4",
   "metadata": {
    "editable": true,
    "slideshow": {
     "slide_type": ""
    },
    "tags": []
   },
   "outputs": [],
   "source": [
    "def Normalization(x):\n",
    "        \n",
    "    return x/x.abs().max()"
   ]
  },
  {
   "cell_type": "code",
   "execution_count": 9,
   "id": "6363fa8d-c944-497f-9c23-f07c047d0a2d",
   "metadata": {
    "editable": true,
    "slideshow": {
     "slide_type": ""
    },
    "tags": []
   },
   "outputs": [],
   "source": [
    "X_treino_Normalizado = Normalization(X_treino)\n",
    "X_teste_Normalizado = Normalization(X_teste)"
   ]
  },
  {
   "cell_type": "code",
   "execution_count": 36,
   "id": "2050683c-0ade-459e-9d36-26d8de645be2",
   "metadata": {},
   "outputs": [],
   "source": [
    "#Criando, primeiramente, rede com 1000 epocas\n",
    "from sklearn import neural_network\n",
    "modelo = neural_network.MLPClassifier(random_state=30, max_iter=400)"
   ]
  },
  {
   "cell_type": "code",
   "execution_count": 11,
   "id": "e83cfa60-ba62-4dc3-9ea5-fa1467db3860",
   "metadata": {
    "editable": true,
    "slideshow": {
     "slide_type": ""
    },
    "tags": []
   },
   "outputs": [],
   "source": [
    "def teste(g, D_tst, metrica, **kwds):\n",
    "    X_tst, y_tst = D_tst\n",
    "    y_true = y_tst\n",
    "    y_pred = g.predict(X_tst)\n",
    "    E_tst = metrica(y_true, y_pred, **kwds)\n",
    "    \n",
    "    return E_tst\n",
    "\n",
    "\n",
    "def validacao(Modelo, D_trn, D_val, metrica, **kwds):\n",
    "    # Treinamento:\n",
    "    g = Modelo.fit(*D_trn)\n",
    "    \n",
    "    # Teste:\n",
    "    E_trn = teste(g, D_trn, metrica, **kwds)\n",
    "    E_val = teste(g, D_val, metrica, **kwds)\n",
    "    \n",
    "    return E_trn, E_val"
   ]
  },
  {
   "cell_type": "code",
   "execution_count": null,
   "id": "f685158f-7e85-4d6d-8037-58e94ccc8d79",
   "metadata": {},
   "outputs": [],
   "source": [
    "# Dividindo em  dados de treino e validação 15%\n",
    "X_train, X_val, y_train, y_val = train_test_split(X_treino_Normalizado, Y_treino, test_size=0.15, random_state=30)"
   ]
  },
  {
   "cell_type": "code",
   "execution_count": null,
   "id": "8bdfff59-cf36-4f66-b408-615dacbed351",
   "metadata": {
    "editable": true,
    "slideshow": {
     "slide_type": ""
    },
    "tags": []
   },
   "outputs": [],
   "source": [
    "#Avaliando o modelo: \n",
    "E_trn, E_tst = validacao(modelo, (X_train, y_train), (X_teste_Normalizado, Y_teste), zero_one_loss)\n",
    "print(\"Erro de treinamento:\", E_trn)\n",
    "print(\"Erro de teste :\", E_tst)\n"
   ]
  },
  {
   "cell_type": "code",
   "execution_count": null,
   "id": "c9c4e13a-ea29-44e5-b789-81a340b68b44",
   "metadata": {
    "editable": true,
    "slideshow": {
     "slide_type": ""
    },
    "tags": []
   },
   "outputs": [],
   "source": [
    "# Plot matriz de confusão\n",
    "from sklearn.metrics import confusion_matrix, ConfusionMatrixDisplay\n",
    "# Avaliação modelo  (matriz de confusão)\n",
    "from sklearn.metrics import confusion_matrix\n",
    "from sklearn.metrics import ConfusionMatrixDisplay\n",
    "\n",
    "cm_trn, cm_tst = validacao(modelo, (X_train, y_train), (X_teste_Normalizado, Y_teste), confusion_matrix)\n",
    "\n",
    "# Exiba a matriz de confusão para o conjunto de treinamento\n",
    "disp_trn = ConfusionMatrixDisplay(confusion_matrix=cm_trn, display_labels=modelo.classes_)\n",
    "disp_trn.plot(cmap=plt.cm.Blues)\n",
    "plt.title(\"Matriz de Confusão - Treinamento\")\n",
    "plt.show()\n",
    "\n",
    "# Exiba a matriz de confusão para o conjunto de teste\n",
    "disp_tst = ConfusionMatrixDisplay(confusion_matrix=cm_tst, display_labels=modelo.classes_)\n",
    "disp_tst.plot(cmap=plt.cm.Blues)\n",
    "plt.title(\"Matriz de Confusão - Teste\")\n",
    "plt.show()"
   ]
  },
  {
   "cell_type": "code",
   "execution_count": 15,
   "id": "649a375a-654f-4a1a-8de1-c1317d8f8dac",
   "metadata": {},
   "outputs": [
    {
     "name": "stderr",
     "output_type": "stream",
     "text": [
      "C:\\Users\\cajad\\AppData\\Local\\Programs\\Python\\Python312\\Lib\\site-packages\\sklearn\\neural_network\\_multilayer_perceptron.py:690: ConvergenceWarning: Stochastic Optimizer: Maximum iterations (10) reached and the optimization hasn't converged yet.\n",
      "  warnings.warn(\n",
      "C:\\Users\\cajad\\AppData\\Local\\Programs\\Python\\Python312\\Lib\\site-packages\\sklearn\\neural_network\\_multilayer_perceptron.py:690: ConvergenceWarning: Stochastic Optimizer: Maximum iterations (60) reached and the optimization hasn't converged yet.\n",
      "  warnings.warn(\n",
      "C:\\Users\\cajad\\AppData\\Local\\Programs\\Python\\Python312\\Lib\\site-packages\\sklearn\\neural_network\\_multilayer_perceptron.py:690: ConvergenceWarning: Stochastic Optimizer: Maximum iterations (110) reached and the optimization hasn't converged yet.\n",
      "  warnings.warn(\n",
      "C:\\Users\\cajad\\AppData\\Local\\Programs\\Python\\Python312\\Lib\\site-packages\\sklearn\\neural_network\\_multilayer_perceptron.py:690: ConvergenceWarning: Stochastic Optimizer: Maximum iterations (160) reached and the optimization hasn't converged yet.\n",
      "  warnings.warn(\n",
      "C:\\Users\\cajad\\AppData\\Local\\Programs\\Python\\Python312\\Lib\\site-packages\\sklearn\\neural_network\\_multilayer_perceptron.py:690: ConvergenceWarning: Stochastic Optimizer: Maximum iterations (210) reached and the optimization hasn't converged yet.\n",
      "  warnings.warn(\n",
      "C:\\Users\\cajad\\AppData\\Local\\Programs\\Python\\Python312\\Lib\\site-packages\\sklearn\\neural_network\\_multilayer_perceptron.py:690: ConvergenceWarning: Stochastic Optimizer: Maximum iterations (260) reached and the optimization hasn't converged yet.\n",
      "  warnings.warn(\n",
      "C:\\Users\\cajad\\AppData\\Local\\Programs\\Python\\Python312\\Lib\\site-packages\\sklearn\\neural_network\\_multilayer_perceptron.py:690: ConvergenceWarning: Stochastic Optimizer: Maximum iterations (310) reached and the optimization hasn't converged yet.\n",
      "  warnings.warn(\n",
      "C:\\Users\\cajad\\AppData\\Local\\Programs\\Python\\Python312\\Lib\\site-packages\\sklearn\\neural_network\\_multilayer_perceptron.py:690: ConvergenceWarning: Stochastic Optimizer: Maximum iterations (360) reached and the optimization hasn't converged yet.\n",
      "  warnings.warn(\n",
      "C:\\Users\\cajad\\AppData\\Local\\Programs\\Python\\Python312\\Lib\\site-packages\\sklearn\\neural_network\\_multilayer_perceptron.py:690: ConvergenceWarning: Stochastic Optimizer: Maximum iterations (410) reached and the optimization hasn't converged yet.\n",
      "  warnings.warn(\n"
     ]
    },
    {
     "data": {
      "image/png": "[encoded data removed]",
      "text/plain": [
       "<Figure size 1200x600 with 2 Axes>"
      ]
     },
     "metadata": {},
     "output_type": "display_data"
    }
   ],
   "source": [
    "import numpy as np\n",
    "import matplotlib.pyplot as plt\n",
    "from sklearn.neural_network import MLPClassifier\n",
    "from sklearn.metrics import log_loss\n",
    "\n",
    "X_train, X_val, y_train, y_val = train_test_split(X_treino_Normalizado, Y_treino, test_size=0.15, random_state=30)\n",
    "\n",
    "# Definir uma lista de diferentes números de épocas\n",
    "epocas = list(range(10, 600, 50))\n",
    "\n",
    "# Métricas\n",
    "custo_treino = []\n",
    "custo_validacao = []\n",
    "precisao_treino = []\n",
    "precisao_validacao = []\n",
    "\n",
    "for epoca in epocas:\n",
    "    # Treinando o modelo\n",
    "    modelo = MLPClassifier(random_state=30, max_iter=epoca)\n",
    "    modelo.fit(X_train, y_train)\n",
    "    \n",
    "    # Precisão e custo para treinamento\n",
    "    y_train_pred = modelo.predict_proba(X_train)\n",
    "    custo_treino.append(log_loss(y_train, y_train_pred))\n",
    "    precisao_treino.append(modelo.score(X_train, y_train))\n",
    "    \n",
    "    # Precisão e custo para validação\n",
    "    y_val_pred = modelo.predict_proba(X_val)\n",
    "    custo_validacao.append(log_loss(y_val, y_val_pred))\n",
    "    precisao_validacao.append(modelo.score(X_val, y_val))\n",
    "\n",
    "plt.figure(figsize=(12, 6))\n",
    "\n",
    "# Plotar função de custo\n",
    "plt.subplot(1, 2, 1)\n",
    "plt.plot(epocas, custo_treino, label='Treinamento')\n",
    "plt.plot(epocas, custo_validacao, label='Validação', linestyle='--')\n",
    "plt.xlabel('Épocas')\n",
    "plt.ylabel('Função de Custo')\n",
    "plt.title('Função de Custo vs. Épocas')\n",
    "plt.legend()\n",
    "\n",
    "# Plotar precisão\n",
    "plt.subplot(1, 2, 2)\n",
    "plt.plot(epocas, precisao_treino, label='Treinamento')\n",
    "plt.plot(epocas, precisao_validacao, label='Validação', linestyle='--' )\n",
    "plt.xlabel('Épocas')\n",
    "plt.ylabel('Precisão')\n",
    "plt.title('Precisão vs. Épocas')\n",
    "plt.legend()\n",
    "\n",
    "plt.show()\n"
   ]
  },
  {
   "cell_type": "code",
   "execution_count": 16,
   "id": "58f10d58-ec98-4742-a14b-4fe607b85879",
   "metadata": {},
   "outputs": [
    {
     "name": "stdout",
     "output_type": "stream",
     "text": [
      "treino:\n",
      "               precision    recall  f1-score   support\n",
      "\n",
      "           1       0.89      0.91      0.90      3266\n",
      "           2       1.00      1.00      1.00       849\n",
      "           5       0.63      0.30      0.41        89\n",
      "           7       0.68      0.30      0.42      2684\n",
      "           8       0.58      0.49      0.53      6284\n",
      "          10       0.87      0.96      0.91     24693\n",
      "\n",
      "    accuracy                           0.83     37865\n",
      "   macro avg       0.78      0.66      0.69     37865\n",
      "weighted avg       0.81      0.83      0.81     37865\n",
      "\n",
      "teste :\n",
      "               precision    recall  f1-score   support\n",
      "\n",
      "           1       0.89      0.92      0.90       721\n",
      "           2       1.00      1.00      1.00       188\n",
      "           5       0.44      0.15      0.22        27\n",
      "           7       0.66      0.29      0.40       553\n",
      "           8       0.56      0.47      0.51      1295\n",
      "          10       0.87      0.96      0.91      5078\n",
      "\n",
      "    accuracy                           0.82      7862\n",
      "   macro avg       0.74      0.63      0.66      7862\n",
      "weighted avg       0.81      0.82      0.81      7862\n",
      "\n"
     ]
    }
   ],
   "source": [
    "# Avaliação modelo  (relatório de classificação)\n",
    "\n",
    "from sklearn.metrics import classification_report\n",
    "\n",
    "cr_trn, cr_tst = validacao(modelo, (X_train, y_train), (X_teste_Normalizado, Y_teste),\n",
    "                            classification_report)\n",
    "print(\"treino:\\n\", cr_trn)\n",
    "print(\"teste :\\n\", cr_tst)"
   ]
  },
  {
   "cell_type": "code",
   "execution_count": 17,
   "id": "f6705815-dea1-4068-8b7c-181cadd0ab8b",
   "metadata": {},
   "outputs": [
    {
     "ename": "NameError",
     "evalue": "name 'history' is not defined",
     "output_type": "error",
     "traceback": [
      "\u001b[1;31m---------------------------------------------------------------------------\u001b[0m",
      "\u001b[1;31mNameError\u001b[0m                                 Traceback (most recent call last)",
      "Cell \u001b[1;32mIn[17], line 4\u001b[0m\n\u001b[0;32m      1\u001b[0m \u001b[38;5;66;03m# plot history:\u001b[39;00m\n\u001b[0;32m      2\u001b[0m fig, (ax1, ax2) \u001b[38;5;241m=\u001b[39m plt\u001b[38;5;241m.\u001b[39msubplots(\u001b[38;5;241m1\u001b[39m ,\u001b[38;5;241m2\u001b[39m, figsize\u001b[38;5;241m=\u001b[39m(\u001b[38;5;241m15\u001b[39m,\u001b[38;5;241m5\u001b[39m))\n\u001b[1;32m----> 4\u001b[0m epochs \u001b[38;5;241m=\u001b[39m \u001b[38;5;28mrange\u001b[39m(\u001b[38;5;241m1\u001b[39m, \u001b[38;5;28mlen\u001b[39m(\u001b[43mhistory\u001b[49m[\u001b[38;5;124m'\u001b[39m\u001b[38;5;124mloss\u001b[39m\u001b[38;5;124m'\u001b[39m]) \u001b[38;5;241m+\u001b[39m \u001b[38;5;241m1\u001b[39m)\n\u001b[0;32m      6\u001b[0m ax1\u001b[38;5;241m.\u001b[39mplot(epochs, history[\u001b[38;5;124m'\u001b[39m\u001b[38;5;124mloss\u001b[39m\u001b[38;5;124m'\u001b[39m], \u001b[38;5;124m'\u001b[39m\u001b[38;5;124mm\u001b[39m\u001b[38;5;124m'\u001b[39m, label\u001b[38;5;241m=\u001b[39m\u001b[38;5;124m'\u001b[39m\u001b[38;5;124mTreinamento\u001b[39m\u001b[38;5;124m'\u001b[39m)\n\u001b[0;32m      7\u001b[0m ax1\u001b[38;5;241m.\u001b[39mplot(epochs, history[\u001b[38;5;124m'\u001b[39m\u001b[38;5;124mval_loss\u001b[39m\u001b[38;5;124m'\u001b[39m], \u001b[38;5;124m'\u001b[39m\u001b[38;5;124mr--\u001b[39m\u001b[38;5;124m'\u001b[39m, label\u001b[38;5;241m=\u001b[39m\u001b[38;5;124m'\u001b[39m\u001b[38;5;124mValidação\u001b[39m\u001b[38;5;124m'\u001b[39m)\n",
      "\u001b[1;31mNameError\u001b[0m: name 'history' is not defined"
     ]
    },
    {
     "data": {
      "image/png": "[encoded data removed]",
      "text/plain": [
       "<Figure size 1500x500 with 2 Axes>"
      ]
     },
     "metadata": {},
     "output_type": "display_data"
    }
   ],
   "source": [
    "# plot history:\n",
    "fig, (ax1, ax2) = plt.subplots(1 ,2, figsize=(15,5))\n",
    "\n",
    "epochs = range(1, len(history['loss']) + 1)\n",
    "\n",
    "ax1.plot(epochs, history['loss'], 'm', label='Treinamento')\n",
    "ax1.plot(epochs, history['val_loss'], 'r--', label='Validação')\n",
    "ax1.set_xlabel('Épocas')\n",
    "ax1.set_ylabel('Perda')\n",
    "ax1.legend()\n",
    "\n",
    "ax2.plot(epochs, history['accuracy'], 'c', label='Treinamento')\n",
    "ax2.plot(epochs, history['val_accuracy'], 'b--', label='Validação')\n",
    "ax2.set_xlabel('Épocas')\n",
    "ax2.set_ylabel('Acurácia')\n",
    "ax2.legend()\n",
    "\n",
    "plt.show()"
   ]
  },
  {
   "cell_type": "code",
   "execution_count": 18,
   "id": "076ed153-aa08-413a-a0a1-00b0c6c82220",
   "metadata": {},
   "outputs": [
    {
     "ename": "ModuleNotFoundError",
     "evalue": "No module named 'keras'",
     "output_type": "error",
     "traceback": [
      "\u001b[1;31m---------------------------------------------------------------------------\u001b[0m",
      "\u001b[1;31mModuleNotFoundError\u001b[0m                       Traceback (most recent call last)",
      "Cell \u001b[1;32mIn[18], line 2\u001b[0m\n\u001b[0;32m      1\u001b[0m \u001b[38;5;28;01mimport\u001b[39;00m \u001b[38;5;21;01mnumpy\u001b[39;00m \u001b[38;5;28;01mas\u001b[39;00m \u001b[38;5;21;01mnp\u001b[39;00m\n\u001b[1;32m----> 2\u001b[0m \u001b[38;5;28;01mfrom\u001b[39;00m \u001b[38;5;21;01mkeras\u001b[39;00m\u001b[38;5;21;01m.\u001b[39;00m\u001b[38;5;21;01mmodels\u001b[39;00m \u001b[38;5;28;01mimport\u001b[39;00m Sequential\n\u001b[0;32m      3\u001b[0m \u001b[38;5;28;01mfrom\u001b[39;00m \u001b[38;5;21;01mkeras\u001b[39;00m\u001b[38;5;21;01m.\u001b[39;00m\u001b[38;5;21;01mlayers\u001b[39;00m \u001b[38;5;28;01mimport\u001b[39;00m Dense\n\u001b[0;32m      5\u001b[0m \u001b[38;5;66;03m# Criando o modelo...\u001b[39;00m\n",
      "\u001b[1;31mModuleNotFoundError\u001b[0m: No module named 'keras'"
     ]
    }
   ],
   "source": [
    "import numpy as np\n",
    "from keras.models import Sequential\n",
    "from keras.layers import Dense\n",
    "\n",
    "# Criando o modelo...\n",
    "model = Sequential()\n",
    "model.add(Dense(2, activation='sigmoid', input_dim=30))  # Camada oculta com 10 neurônios\n",
    "model.add(Dense(1, activation='sigmoid'))  # Camada de saída com 1 neurônio (sigmoid) temos:\n",
    "\n",
    "model.compile(loss='binary_crossentropy', optimizer='adam', metrics=['accuracy'])\n"
   ]
  },
  {
   "cell_type": "code",
   "execution_count": 19,
   "id": "18226fb9-3b30-402e-bf40-e1aa320c488a",
   "metadata": {},
   "outputs": [
    {
     "ename": "NameError",
     "evalue": "name 'model' is not defined",
     "output_type": "error",
     "traceback": [
      "\u001b[1;31m---------------------------------------------------------------------------\u001b[0m",
      "\u001b[1;31mNameError\u001b[0m                                 Traceback (most recent call last)",
      "Cell \u001b[1;32mIn[19], line 2\u001b[0m\n\u001b[0;32m      1\u001b[0m \u001b[38;5;66;03m# com validação:\u001b[39;00m\n\u001b[1;32m----> 2\u001b[0m history \u001b[38;5;241m=\u001b[39m \u001b[43mmodel\u001b[49m\u001b[38;5;241m.\u001b[39mfit(\n\u001b[0;32m      3\u001b[0m     X_train, y_train, epochs\u001b[38;5;241m=\u001b[39m\u001b[38;5;241m1000\u001b[39m, batch_size\u001b[38;5;241m=\u001b[39m\u001b[38;5;241m1\u001b[39m,\n\u001b[0;32m      4\u001b[0m     validation_data\u001b[38;5;241m=\u001b[39m(X_val, y_val)\n\u001b[0;32m      5\u001b[0m )\u001b[38;5;241m.\u001b[39mhistory\n",
      "\u001b[1;31mNameError\u001b[0m: name 'model' is not defined"
     ]
    }
   ],
   "source": [
    "# com validação:\n",
    "history = model.fit(\n",
    "    X_train, y_train, epochs=1000, batch_size=1,\n",
    "    validation_data=(X_val, y_val)\n",
    ").history"
   ]
  },
  {
   "cell_type": "code",
   "execution_count": null,
   "id": "8c0d1171-e181-46f6-bcc3-874f598052ac",
   "metadata": {},
   "outputs": [],
   "source": [
    "#Para 400 epocas\n",
    "from sklearn.neural_network import MLPClassifier\n",
    "modelo_ideal = MLPClassifier(random_state=30, max_iter=400)\n",
    "modelo_ideal.fit(X_train, y_train)"
   ]
  },
  {
   "cell_type": "code",
   "execution_count": null,
   "id": "ad0c4d78-6c3e-4637-905b-61a6bee5c70a",
   "metadata": {},
   "outputs": [],
   "source": [
    "# Avaliação modelo  (relatório de classificação)\n",
    "\n",
    "from sklearn.metrics import classification_report\n",
    "\n",
    "cr_trn, cr_tst = validacao(modelo_ideal, (X_train, y_train), (X_teste_Normalizado, Y_teste),\n",
    "                            classification_report)\n",
    "print(\"treino:\\n\", cr_trn)\n",
    "print(\"teste :\\n\", cr_tst)"
   ]
  },
  {
   "cell_type": "code",
   "execution_count": null,
   "id": "60d59058-01cb-4299-a277-44e22250b79b",
   "metadata": {},
   "outputs": [],
   "source": []
  }
 ],
 "metadata": {
  "kernelspec": {
   "display_name": "Python 3 (ipykernel)",
   "language": "python",
   "name": "python3"
  },
  "language_info": {
   "codemirror_mode": {
    "name": "ipython",
    "version": 3
   },
   "file_extension": ".py",
   "mimetype": "text/x-python",
   "name": "python",
   "nbconvert_exporter": "python",
   "pygments_lexer": "ipython3",
   "version": "3.12.4"
  }
 },
 "nbformat": 4,
 "nbformat_minor": 5
}
